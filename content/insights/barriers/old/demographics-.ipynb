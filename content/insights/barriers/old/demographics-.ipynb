{
 "cells": [
  {
   "cell_type": "markdown",
   "metadata": {},
   "source": [
    "In order to test for demographic patterns in the responses along each dimension, we conducted an analysis of variance (ANOVA) with a Tukey posthoc test to compare the principal component scores between demographic factor levels. Demographic variables that showed contrasts (Tukey adj.p.value < 0.05) between factor levels indicated differences that are unlikely to be due to chance. These differences may suggest an association between the direction of the demographic factors difference and the barriers described by the accompanying dimension/principal component.   \n",
    "\n",
    "The analysis revealed demographic factor level contrasts for Dimensions 1, 2, 4, and 5. Dimension 3 (*Dialectical Complexity*) did not reveal any association with any of the demographic factors included in the analysis. There were 'school' and 'income' differences for Dimension 1. Differences for 'sex' emerged for Dimensions 2, 4, and 5. Prior exposure to the arts was particularly relevant for Dimensions 2 and 4.  \n",
    "\n",
    "Demographic factors that had associations with each of the dimensions are listed below, along with statistical tables and accompanying figures illustrating the contrasts between factor levels. A brief description accompanies each dimension to summarize the results. "
   ]
  },
  {
   "cell_type": "markdown",
   "metadata": {
    "tags": [
     "full_width"
    ]
   },
   "source": [
    "# Personal Capacity -vs- Climate of Exclusion (Dimension 1) \n",
    "\n",
    "\n",
    "Example copy hjkahckjcjkwcwc Density plot of income contrasts Demographic variables that showed contrasts (Tukey adj.p.value < 0.05) between factor levels indicated differences that are unlikely to be due to chance. These differences may suggest an association between the direction of the demographic factors difference and the barriers described by the accompanying dimension/principal component.\n",
    "\n",
    "| question_name | PC_num | demographic | comparison                                 | estimate     | tukey adj.p.value |\n",
    "|:---------------|:--------|:-------------|:--------------------------------------------|:--------------|:-------------|\n",
    "| barriers      | PC1    | income      | More than \\$150,000-\\$50,000-$100,000        | 0.26160219   | 0.006427354 |\n",
    "| barriers      | PC1    | school      | Engineering-Literature, Science & the Arts | -0.344558809 | 0.00769074  |\n",
    "\n",
    "\n",
    "## income\n",
    "<img src=\"/images/barriers/demos/PC1-income.png\" title=\"Density plot of income contrasts\" width=\"800\">ABOVE: Density plot of income contrasts Demographic variables that showed contrasts (Tukey adj.p.value < 0.05) between factor levels indicated differences that are unlikely to be due to chance. These differences may suggest an association between the direction of the demographic factors difference and the barriers described by the accompanying dimension/principal component. </img>\n",
    "\n",
    "## school\n",
    "<img src=\"/images/barriers/demos/PC1-school.png\" title=\"Density plot of income contrasts\" width=\"800\">ABOVE: Density plot of income contrasts Demographic variables that showed contrasts (Tukey adj.p.value < 0.05) between factor levels indicated differences that are unlikely to be due to chance. These differences may suggest an association between the direction of the demographic factors difference and the barriers described by the accompanying dimension/principal component. </img>"
   ]
  },
  {
   "cell_type": "markdown",
   "metadata": {
    "tags": [
     "full_width"
    ]
   },
   "source": [
    "\n",
    "# Clear Barriers: Time, Major, Location, Cost -vs- Other Interests (Dimension 2) \n",
    "\n",
    "Example copy hjkahckjcjkwcwc Density plot of income contrasts Demographic variables that showed contrasts (Tukey adj.p.value < 0.05) between factor levels indicated differences that are unlikely to be due to chance. These differences may suggest an association between the direction of the demographic factors difference and the barriers described by the accompanying dimension/principal component.\n",
    "\n",
    "| question_name | PC_num | demographic | comparison                                 | estimate     | tukey adj.p.value |\n",
    "|:----------|:-----|:------------------|:-----------------------------------------|:--------------|:-------------|\n",
    "| barriers | PC2 | sex              | Female-Male                             | -0.15176169  | 0.002629354 |\n",
    "| barriers | PC2 | artsincollege    | Yes-No                                  | -0.396376576 | 3.26E-09    |\n",
    "| barriers | PC2 | hs_arts_freq     | Occasionally-Never                      | -0.605654184 | 2.65E-08    |\n",
    "| barriers | PC2 | hs_arts_freq     | Frequently-Never                        | -0.922648271 | 3.39E-09    |\n",
    "| barriers | PC2 | hs_arts_freq     | Frequently-Occasionally                 | -0.316994087 | 3.45E-09    |\n",
    "| barriers | PC2 | hs_encouragement | Yes-No                                  | -0.183150322 | 0.000299571 |\n",
    "| barriers | PC2 | hs_fees          | Yes-No                                  | -0.138803489 | 0.004038041 |\n",
    "| barriers | PC2 | hstype           | Private religious-Traditional public    | 0.235876907  | 0.022034534 |\n",
    "| barriers | PC2 | hstype           | Private non-religious-Private religious | -0.517439319 | 0.00075395  |\n",
    "| barriers | PC2 | parented         | Ph.D or professional degree-Bachelor's  | -0.284336045 | 0.000168483 |\n",
    "| barriers | PC2 | sr_participated  | Yes-No                                  | -0.406484092 | 1.94E-08    |\n",
    "| barriers | PC2 | so_childhood1    | No-Yes                                  | 0.282730234  | 4.35E-05    |\n",
    "| barriers | PC2 | so_childhood3    | No-Yes                                  | 0.210865826  | 2.54E-05    |\n",
    "| barriers | PC2 | so_childhood5    | No-Yes                                  | 0.178594572  | 0.000154203 |\n",
    "\n",
    "Barriers PC2 Demographics: \n",
    "\n",
    "## sex\n",
    "\n",
    "## parented\n",
    "\n",
    "## income\n",
    "\n",
    "## sr_participated\n",
    "\n",
    "## so_childhood5\n",
    "\n",
    "## so_childhood3\n",
    "\n",
    "## so_childhood1\n",
    "\n",
    "## hstype\n",
    "\n",
    "## hs_fees\n",
    "\n",
    "## hs_encouragement\n",
    "\n",
    "## hs_arts_freq\n",
    "\n",
    "## artsincollege\n",
    "\n",
    "\n"
   ]
  },
  {
   "cell_type": "markdown",
   "metadata": {},
   "source": [
    "# Lack of Personal Interest, Confidence, & Familiarity -vs- Distance Between Campuses & Awareness (Dimension 4) \n",
    "\n",
    "Example copy hjkahckjcjkwcwc Density plot of income contrasts Demographic variables that showed contrasts (Tukey adj.p.value < 0.05) between factor levels indicated differences that are unlikely to be due to chance. These differences may suggest an association between the direction of the demographic factors difference and the barriers described by the accompanying dimension/principal component.\n",
    "\n",
    "| question_name | PC_num | demographic | comparison                                 | estimate     | tukey adj.p.value |\n",
    "|:----------|:-----|:------------------|:-----------------------------------------|:--------------|:-------------|\n",
    "| barriers | PC4 | so_childhood3   | No-Yes                  | -0.123135318 | 0.002225545 |\n",
    "| barriers | PC4 | sr_participated | Yes-No                  | 0.213185631  | 0.00012729  |\n",
    "| barriers | PC4 | so_childhood1   | No-Yes                  | -0.203801812 | 0.000244114 |\n",
    "| barriers | PC4 | sex             | Female-Male             | 0.103809041  | 0.009134532 |\n",
    "| barriers | PC4 | hs_arts_freq    | Occasionally-Never      | 0.305205205  | 0.000760975 |\n",
    "| barriers | PC4 | hs_arts_freq    | Frequently-Never        | 0.423756045  | 1.05E-06    |\n",
    "| barriers | PC4 | hs_arts_freq    | Frequently-Occasionally | 0.11855084   | 0.004648511 |\n",
    "| barriers | PC4 | artsincollege   | Yes-No                  | 0.240217457  | 3.31E-09    |\n",
    "\n",
    "\n",
    "Barriers PC4 Demographic: \n",
    "\n",
    "## sex\n",
    "\n",
    "## so_childhood3\n",
    "\n",
    "## so_childhood1\n",
    "\n",
    "## sr_participated\n",
    "\n",
    "## hs_arts_freq\n",
    "\n",
    "## artsincollege"
   ]
  },
  {
   "cell_type": "markdown",
   "metadata": {},
   "source": [
    "# Course Availability -vs- Access: Location and Awareness (Dimension 5) \n",
    "\n",
    "Example copy hjkahckjcjkwcwc Density plot of income contrasts Demographic variables that showed contrasts (Tukey adj.p.value < 0.05) between factor levels indicated differences that are unlikely to be due to chance. These differences may suggest an association between the direction of the demographic factors difference and the barriers described by the accompanying dimension/principal component.\n",
    "\n",
    "| question_name | PC_num | demographic | comparison                                 | estimate     | tukey adj.p.value |\n",
    "|:----------|:-----|:------------------|:-----------------------------------------|:--------------|:-------------|\n",
    "| barriers | PC5 | sr_highestdegreeplanned | Doctoral or professional degree-Bachelor's degree | -0.195418832 | 0.016687737 |\n",
    "| barriers | PC5 | sex                     | Female-Male                                       | 0.1907406    | 5.37E-07    |\n",
    "\n",
    "Barriers PC5 Demographic: \n",
    "\n",
    "## sex\n",
    "## sr_highestdegreeplanned\n",
    "\n"
   ]
  },
  {
   "cell_type": "code",
   "execution_count": null,
   "metadata": {},
   "outputs": [],
   "source": []
  }
 ],
 "metadata": {
  "celltoolbar": "Tags",
  "kernelspec": {
   "display_name": "Python 3",
   "language": "python",
   "name": "python3"
  },
  "language_info": {
   "codemirror_mode": {
    "name": "ipython",
    "version": 3
   },
   "file_extension": ".py",
   "mimetype": "text/x-python",
   "name": "python",
   "nbconvert_exporter": "python",
   "pygments_lexer": "ipython3",
   "version": "3.8.1"
  }
 },
 "nbformat": 4,
 "nbformat_minor": 4
}
