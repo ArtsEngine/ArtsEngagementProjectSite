{
 "cells": [
  {
   "cell_type": "markdown",
   "metadata": {},
   "source": [
    "## *Barriers to Involvement* Dimensions\n",
    "\n",
    "### Principal Components Results\n",
    "\n",
    "A total of 27 variables and 3852 responses were included in the analysis of responses to the question, *“What did you see as the barriers preventing you from being involved in the arts at the University of Michigan (if you experienced any)?”*"
   ]
  },
  {
   "cell_type": "markdown",
   "metadata": {
    "tags": [
     "popout"
    ]
   },
   "source": [
    "Eight components had an eigenvalue greater than 1, explaining 64% of the variation among the responses."
   ]
  },
  {
   "cell_type": "markdown",
   "metadata": {},
   "source": [
    "<img src=\"/images/barriers/barriers_screeplot.png\" title=\"Barriers Scree Plot\" width=\"800\">Barriers Scree Plot</img>\n",
    " \n",
    " \n",
    "| Barriers PC    | eigenvalue | variance.percent | cumulative.variance.percent |\n",
    "|-------|------------|------------------|-----------------------------|\n",
    "| Dim.1 | 4.85E+00   | 1.80E+01         | 17.95625                    |\n",
    "| Dim.2 | 2.92E+00   | 1.08E+01         | 28.75957                    |\n",
    "| Dim.3 | 2.39E+00   | 8.85E+00         | 37.60513                    |\n",
    "| Dim.4 | 1.97E+00   | 7.30E+00         | 44.90487                    |\n",
    "| Dim.5 | 1.65E+00   | 6.10E+00         | 51.00094                    |\n",
    "| Dim.6 | 1.46E+00   | 5.40E+00         | 56.40384                    |\n",
    "| Dim.7 | 1.14E+00   | 4.22E+00         | 60.61931                    |\n",
    "| Dim.8 | 1.01E+00   | 3.74E+00         | 64.36249                    |\n",
    " "
   ]
  },
  {
   "cell_type": "markdown",
   "metadata": {
    "tags": [
     "popout"
    ]
   },
   "source": [
    "Five components explaining a cumulative 51% of the variation were extracted for description."
   ]
  },
  {
   "cell_type": "markdown",
   "metadata": {},
   "source": [
    "| BARRIERS                                  | PC1     | PC2     | PC3     | PC4     | PC5     |\n",
    "|-------------------------------------------|---------|---------|---------|---------|---------|\n",
    "| topic..Unwelcoming_Environment            | 0.3362  | -0.0582 | 0.0018  | 0.0054  | 0.0746  |\n",
    "| topic..Competitive_Auditions              | 0.2743  | -0.0765 | 0.05    | -0.0571 | 0.0684  |\n",
    "| topic..University_Priorities              | 0.2442  | -0.1282 | 0.0322  | 0.0968  | -0.1338 |\n",
    "| topic..No_Barriers                        | 0.2257  | 0.0489  | 0.0092  | -0.0766 | 0.0815  |\n",
    "| topic..Accessibility                      | 0.2197  | -0.0943 | 0.0242  | 0.1639  | 0.111   |\n",
    "| topic..Departmental_Segregation           | 0.2075  | -0.1743 | 0.0117  | 0.1163  | -0.3114 |\n",
    "| topic..Ennui                              | 0.2038  | 0.2043  | -0.004  | -0.0387 | 0.2905  |\n",
    "| topic..Lack_of_Familiarity                | 0.1971  | -0.0193 | 0.0167  | -0.3439 | -0.043  |\n",
    "| LIWC..function                            | 0.1867  | 0.4365  | -0.0557 | 0.1793  | -0.1162 |\n",
    "| topic..Cost                               | 0.1835  | -0.0961 | -0.0104 | 0.1493  | 0.1898  |\n",
    "| topic..University_Program_Requirements    | 0.1819  | -0.0901 | 0.0031  | 0.0132  | -0.1386 |\n",
    "| LIWC..Tone                                | 0.1679  | 0.0387  | 0.0206  | -0.1664 | 0.0339  |\n",
    "| topic..Low_Confidence                     | 0.1475  | 0.0209  | 0.0163  | -0.4336 | -0.001  |\n",
    "| topic..Awareness                          | 0.1378  | -0.041  | 0.0271  | 0.2838  | 0.3595  |\n",
    "| AIC..DIAL                                 | 0.0392  | -0.0563 | -0.5517 | -0.0197 | 0.0338  |\n",
    "| AIC..IC                                   | 0.0375  | -0.0624 | -0.6297 | -0.0468 | 0.0202  |\n",
    "| AIC..ELAB                                 | 0.0288  | -0.0453 | -0.5197 | -0.0595 | -0.0053 |\n",
    "| topic..Fit_With_Major_and_Course_Scarcity | 0.0258  | -0.1584 | -0.0089 | 0.1245  | -0.4329 |\n",
    "| topic..Distance_Between_Campuses          | -0.0152 | -0.0935 | 0.0266  | 0.327   | 0.2197  |\n",
    "| LIWC..Clout                               | -0.0155 | -0.3862 | 0.0645  | -0.1783 | -0.0194 |\n",
    "| topic..Lack_of_Personal_Interest          | -0.0497 | 0.1388  | 0.0632  | -0.4678 | 0.1248  |\n",
    "| LIWC..Analytic                            | -0.0794 | -0.4316 | 0.0696  | -0.1921 | 0.0094  |\n",
    "| LIWC..Authentic                           | -0.1148 | -0.1275 | -0.0298 | 0.1215  | 0.3833  |\n",
    "| topic..No_Barriers,_Except                | -0.1487 | 0.4273  | -0.0357 | -0.0424 | -0.011  |\n",
    "| LIWC..relativ                             | -0.2378 | -0.2688 | -0.002  | -0.0717 | 0.3031  |\n",
    "| topic..Course_Load                        | -0.3076 | -0.0645 | -0.0528 | 0.1729  | -0.2681 |\n",
    "| topic..Time                               | -0.3983 | 0.0786  | -0.032  | -0.053  | 0.08    |\n",
    "\n"
   ]
  },
  {
   "cell_type": "markdown",
   "metadata": {
    "tags": [
     "popout"
    ]
   },
   "source": [
    "###Topic Model Results \n",
    "\n",
    "We estimated a topic model with 24 topics, 3857 open-ended responses, and a 537 word dictionary (after removing stop words). The resulting topics are interpreted and described in the following sections.  "
   ]
  },
  {
   "cell_type": "markdown",
   "metadata": {},
   "source": [
    "<img src=\"/images/barriers_tree_viz.svg\" title=\"Barriers topics tree visualization\" width=\"800\">Tree visualization of the Barriers topic model representing 3857 students responses.</img>"
   ]
  }
 ],
 "metadata": {
  "celltoolbar": "Tags",
  "kernelspec": {
   "display_name": "Python 3",
   "language": "python",
   "name": "python3"
  },
  "language_info": {
   "codemirror_mode": {
    "name": "ipython",
    "version": 3
   },
   "file_extension": ".py",
   "mimetype": "text/x-python",
   "name": "python",
   "nbconvert_exporter": "python",
   "pygments_lexer": "ipython3",
   "version": "3.8.1"
  }
 },
 "nbformat": 4,
 "nbformat_minor": 4
}
