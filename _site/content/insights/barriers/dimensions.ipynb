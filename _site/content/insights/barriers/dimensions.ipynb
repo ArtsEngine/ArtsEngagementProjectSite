{
 "cells": [
  {
   "cell_type": "markdown",
   "metadata": {},
   "source": [
    "# Principal Components Results for *Barriers to Involvement* #\n",
    "\n",
    "A total of 27 variables and 3852 responses were included in the analysis of responses to the question,\n",
    "*“What did you see as the barriers preventing you from being involved in the arts at the University of Michigan (if you experienced any)?”*. Five dimensions *(or, interchangeably, principal components)* explaining a cumulative 51% of the variation were extracted for further description.\n",
    "\n",
    "---"
   ]
  },
  {
   "cell_type": "markdown",
   "metadata": {},
   "source": [
    "## Dimension 1: Personal Capacity -vs- Climate of Exclusion\n",
    "\n",
    "Dimension 1 (the first principal component) explains about 18% of the variation among responses, and the topic variables of *Unwelcoming Environment, Competitive Auditions, University Priorities, Accessibility, and Departmental Segregation* contrasted with the individually managed barriers topics of *Time, Course Load, and Location (LIWC.relativ, a spatial language variable)*.\n",
    "\n",
    "Variables contribiting to **Personal Capacity**: `LIWC..relativ, topic..Course_Load, topic..Time`\n",
    "\n",
    "Variables contribiting to **Climate of Exclusion**: `topic..Unwelcoming_Environment, topic..Competitive_Auditions, topic..University_Priorities, topic..No_Barriers, topic..Accessibility, topic..Departmental_Segregation, topic..Ennui`\n",
    "\n",
    "\n",
    "Barriers PC1 Demographics: income; school"
   ]
  },
  {
   "cell_type": "markdown",
   "metadata": {
    "tags": [
     "popout"
    ]
   },
   "source": [
    "[Click here for an interactive biplot of dimension 1 & 2 with responses for this topic.](/images/barriers/barriers_plotly12.html)"
   ]
  },
  {
   "cell_type": "markdown",
   "metadata": {},
   "source": [
    "<img src=\"/images/barriers/barriers_biplot12.png\" title=\"Biplot for Dimensions 1 and 2 for 'Barriers'\" width=\"600\">ABOVE: Biplot for Dimensions 1 and 2 for 'Barriers</img>"
   ]
  },
  {
   "cell_type": "markdown",
   "metadata": {},
   "source": [
    "## Dimension 2: Clear Barriers: Time, Major, Location, Cost -vs- Other Interests\n",
    "\n",
    "Other Interests (+): Focus on self – pronoun ‘I’, Ennui, and No Barriers, except… \n",
    "personal narratives.\n",
    "Lower status\n",
    "Higher use of singular first person pronouns\n",
    "(Kacewicz et al, 2013)\n",
    "\n",
    "Identified Barriers: Time, Major, Location, Cost (-): Clout, Analytic, and relative all negative weighted. Clout is associated with status and lower use of first person pronouns \n",
    "\n",
    "Analytic: Categorical language is a style that combines heightened abstract thinking (associated with greater article use) and cognitive complexity (associated with greater use of prepositions). (Pennebaker et al., 2014)\n",
    "\n",
    "explains about 11% of the variation among responses\n",
    "\n",
    "\n",
    "Variables contribiting to **Clear Barriers: Time, Major, Location, Cost**: `LIWC..Analytic, LIWC..Clout, LIWC..relativ`\n",
    "\n",
    "Variables contribiting to **Other Interests**: `topic..Ennui, topic..No_Barriers,_Except, LIWC..function`\n",
    "\n",
    "\n"
   ]
  },
  {
   "cell_type": "markdown",
   "metadata": {},
   "source": [
    "## Dimension 3: Dialectical Complexity (more -vs- less)\n",
    "\n",
    "\n",
    "Negatively weighted to AIC -> scores high on this component were low integrative complexity\n",
    "Also: Competing Commitments and Priorities?\n",
    "Dialectical Complexity & Competing Themes\n",
    "\n",
    "Variables contribiting to **Dialectical Complexity**: `AIC..IC, AIC..DIAL, AIC..ELAB`\n"
   ]
  },
  {
   "cell_type": "markdown",
   "metadata": {
    "tags": [
     "popout"
    ]
   },
   "source": [
    "[Click here for an interactive biplot of dimension 3 & 4 with responses for this topic.](/images/barriers/barriers_plotly34.html)"
   ]
  },
  {
   "cell_type": "markdown",
   "metadata": {},
   "source": [
    "<img src=\"/images/barriers/barriers_biplot34.png\" title=\"Biplot for Dimensions 1 and 2 for 'Barriers'\" width=\"600\">ABOVE: Biplot for Dimensions 3 and 4 for 'Barriers</img>"
   ]
  },
  {
   "cell_type": "markdown",
   "metadata": {},
   "source": [
    "## Dimension 4: Lack of Personal Interest, Confidence, & Familiarity -vs- Distance Between Campuses & Awareness \n",
    "\n",
    "\n",
    "Variables contribiting to **Lack of Personal Interest, Confidence, and/or Familiarity**: `topic..Lack_of_Personal_Interest, topic..Low_Confidence, topic..Lack_of_Familiarity`\n",
    "\n",
    "Variables contribiting to **Distance + Awareness**: `topic..Distance_Between_Campuses, topic..Awareness`\n",
    "\n"
   ]
  },
  {
   "cell_type": "markdown",
   "metadata": {},
   "source": [
    "## Dimension 5:  Course Availability -vs- Access: Location and Awareness\n",
    "\n",
    "\n",
    "Variables contribiting to **Course Availability**: `topic..Fit_With_Major_and_Course_Scarcity, topic..Departmental_Segregation, topic..Course_Load`\n",
    "\n",
    "Variables contribiting to **Access: Location and Awareness**: `LIWC..Authentic, topic..Awareness, LIWC..relativ, topic..Ennui, topic..Distance_Between_Campuses`\n",
    "\n",
    "\n"
   ]
  },
  {
   "cell_type": "markdown",
   "metadata": {},
   "source": [
    "# Selecting the Dimensions"
   ]
  },
  {
   "cell_type": "markdown",
   "metadata": {},
   "source": [
    "## Scree Plot and Explained Variance\n",
    "\n",
    "This scree plot shows the explained variance of each of the dimensions and helps illustrate the criteria used for selecting the number of dimensions to be studied. In general, dimensions were included that helped account for at least 50% of the cumulative variance, leaving those dimensions that explained less than about 6% of the response variation uninterpreted.  "
   ]
  },
  {
   "cell_type": "markdown",
   "metadata": {},
   "source": [
    "<img src=\"/images/barriers/barriers_screeplot.png\" title=\"Barriers Scree Plot\" width=\"600\"></img>"
   ]
  },
  {
   "cell_type": "markdown",
   "metadata": {},
   "source": [
    "Eight components had an eigenvalue greater than 1. The eight components accounted for 64% of the variation among the responses. Five dimensions explaining a cumulative 51% of the variation were extracted for further description.\n",
    "\n",
    "| Barriers PC    | eigenvalue | variance.percent | cumulative.variance.percent |\n",
    "|:-------|:------------|:------------------|:-----------------------------|\n",
    "| Dim.1 | 4.85E+00   | 1.80E+01         | 17.95625                    |\n",
    "| Dim.2 | 2.92E+00   | 1.08E+01         | 28.75957                    |\n",
    "| Dim.3 | 2.39E+00   | 8.85E+00         | 37.60513                    |\n",
    "| Dim.4 | 1.97E+00   | 7.30E+00         | 44.90487                    |\n",
    "| Dim.5 | 1.65E+00   | 6.10E+00         | 51.00094                    |\n",
    "| Dim.6 | 1.46E+00   | 5.40E+00         | 56.40384                    |\n",
    "| Dim.7 | 1.14E+00   | 4.22E+00         | 60.61931                    |\n",
    "| Dim.8 | 1.01E+00   | 3.74E+00         | 64.36249                    |"
   ]
  },
  {
   "cell_type": "markdown",
   "metadata": {},
   "source": [
    "## Loadings Table for Variables Included in the Analysis\n",
    "\n",
    "The table of loadings shows the loadings of all of the variables for each of the principal components studied for `barriers`. Loadings with absolute values greater than 0.2 have been considered the most important for interpreting and describing each principal component.\n",
    "\n",
    "| BARRIERS                                  | PC1     | PC2     | PC3     | PC4     | PC5     |\n",
    "|:-------------------------------------------|---------|---------|---------|---------|---------|\n",
    "| topic..Unwelcoming_Environment            | 0.3362  | -0.0582 | 0.0018  | 0.0054  | 0.0746  |\n",
    "| topic..Competitive_Auditions              | 0.2743  | -0.0765 | 0.05    | -0.0571 | 0.0684  |\n",
    "| topic..University_Priorities              | 0.2442  | -0.1282 | 0.0322  | 0.0968  | -0.1338 |\n",
    "| topic..No_Barriers                        | 0.2257  | 0.0489  | 0.0092  | -0.0766 | 0.0815  |\n",
    "| topic..Accessibility                      | 0.2197  | -0.0943 | 0.0242  | 0.1639  | 0.111   |\n",
    "| topic..Departmental_Segregation           | 0.2075  | -0.1743 | 0.0117  | 0.1163  | -0.3114 |\n",
    "| topic..Ennui                              | 0.2038  | 0.2043  | -0.004  | -0.0387 | 0.2905  |\n",
    "| topic..Lack_of_Familiarity                | 0.1971  | -0.0193 | 0.0167  | -0.3439 | -0.043  |\n",
    "| LIWC..function                            | 0.1867  | 0.4365  | -0.0557 | 0.1793  | -0.1162 |\n",
    "| topic..Cost                               | 0.1835  | -0.0961 | -0.0104 | 0.1493  | 0.1898  |\n",
    "| topic..University_Program_Requirements    | 0.1819  | -0.0901 | 0.0031  | 0.0132  | -0.1386 |\n",
    "| LIWC..Tone                                | 0.1679  | 0.0387  | 0.0206  | -0.1664 | 0.0339  |\n",
    "| topic..Low_Confidence                     | 0.1475  | 0.0209  | 0.0163  | -0.4336 | -0.001  |\n",
    "| topic..Awareness                          | 0.1378  | -0.041  | 0.0271  | 0.2838  | 0.3595  |\n",
    "| AIC..DIAL                                 | 0.0392  | -0.0563 | -0.5517 | -0.0197 | 0.0338  |\n",
    "| AIC..IC                                   | 0.0375  | -0.0624 | -0.6297 | -0.0468 | 0.0202  |\n",
    "| AIC..ELAB                                 | 0.0288  | -0.0453 | -0.5197 | -0.0595 | -0.0053 |\n",
    "| topic..Fit_With_Major_and_Course_Scarcity | 0.0258  | -0.1584 | -0.0089 | 0.1245  | -0.4329 |\n",
    "| topic..Distance_Between_Campuses          | -0.0152 | -0.0935 | 0.0266  | 0.327   | 0.2197  |\n",
    "| LIWC..Clout                               | -0.0155 | -0.3862 | 0.0645  | -0.1783 | -0.0194 |\n",
    "| topic..Lack_of_Personal_Interest          | -0.0497 | 0.1388  | 0.0632  | -0.4678 | 0.1248  |\n",
    "| LIWC..Analytic                            | -0.0794 | -0.4316 | 0.0696  | -0.1921 | 0.0094  |\n",
    "| LIWC..Authentic                           | -0.1148 | -0.1275 | -0.0298 | 0.1215  | 0.3833  |\n",
    "| topic..No_Barriers,_Except                | -0.1487 | 0.4273  | -0.0357 | -0.0424 | -0.011  |\n",
    "| LIWC..relativ                             | -0.2378 | -0.2688 | -0.002  | -0.0717 | 0.3031  |\n",
    "| topic..Course_Load                        | -0.3076 | -0.0645 | -0.0528 | 0.1729  | -0.2681 |\n",
    "| topic..Time                               | -0.3983 | 0.0786  | -0.032  | -0.053  | 0.08    |"
   ]
  }
 ],
 "metadata": {
  "celltoolbar": "Tags",
  "kernelspec": {
   "display_name": "Python 3",
   "language": "python",
   "name": "python3"
  },
  "language_info": {
   "codemirror_mode": {
    "name": "ipython",
    "version": 3
   },
   "file_extension": ".py",
   "mimetype": "text/x-python",
   "name": "python",
   "nbconvert_exporter": "python",
   "pygments_lexer": "ipython3",
   "version": "3.8.1"
  }
 },
 "nbformat": 4,
 "nbformat_minor": 4
}
